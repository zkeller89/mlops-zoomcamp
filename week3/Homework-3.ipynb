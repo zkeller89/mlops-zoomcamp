{
 "cells": [
  {
   "cell_type": "markdown",
   "id": "8254338b",
   "metadata": {},
   "source": [
    "## Homework\n",
    "\n",
    "The goal of this homework is to familiarize users with workflow orchestration. \n",
    "\n",
    "Start with the orchestrate.py file in the 03-orchestration/3.4 folder\n",
    "of the course repo: https://github.com/DataTalksClub/mlops-zoomcamp/blob/main/03-orchestration/3.4/orchestrate.py"
   ]
  },
  {
   "cell_type": "markdown",
   "id": "1173eb5a",
   "metadata": {},
   "source": [
    "## Q1. Human-readable name\n",
    "\n",
    "You’d like to give the first task, `read_data` a nicely formatted name.\n",
    "How can you specify a task name?\n",
    "\n",
    "> Hint: look in the docs at https://docs.prefect.io or \n",
    "> check out the doc string in a code editor.\n",
    "\n",
    "- `@task(retries=3, retry_delay_seconds=2, name=\"Read taxi data\")`\n",
    "- `@task(retries=3, retry_delay_seconds=2, task_name=\"Read taxi data\")`\n",
    "- `@task(retries=3, retry_delay_seconds=2, task-name=\"Read taxi data\")`\n",
    "- `@task(retries=3, retry_delay_seconds=2, task_name_function=lambda x: f\"Read taxi data\")`"
   ]
  },
  {
   "cell_type": "markdown",
   "id": "a99c93ac",
   "metadata": {},
   "source": [
    "From the [task arguments](https://docs.prefect.io/2.10.13/concepts/tasks/#task-arguments) docs:\n",
    "\n",
    "| Argument | Description |\n",
    "| -------- | ----------- | \n",
    "| `name` | An optional name for the task. If not provided, the name will be inferred from the function name.|"
   ]
  },
  {
   "cell_type": "markdown",
   "id": "2e81f775",
   "metadata": {},
   "source": [
    "## Q2. Cron\n",
    "\n",
    "Cron is a common scheduling specification for workflows. \n",
    "\n",
    "Using the flow in `orchestrate.py`, create a deployment.\n",
    "Schedule your deployment to run on the third day of every month at 9am UTC.\n",
    "What’s the cron schedule for that?\n",
    "\n",
    "- `0 9 3 * *`\n",
    "- `0 0 9 3 *`\n",
    "- `9 * 3 0 *`\n",
    "- `* * 9 3 0`"
   ]
  },
  {
   "cell_type": "markdown",
   "id": "59b6c3f4",
   "metadata": {},
   "source": [
    "`0 9 3 * *`"
   ]
  },
  {
   "cell_type": "markdown",
   "id": "a90aa971",
   "metadata": {},
   "source": [
    "## Q3. RMSE \n",
    "\n",
    "Download the January 2023 Green Taxi data and use it for your training data.\n",
    "Download the February 2023 Green Taxi data and use it for your validation data. \n",
    "\n",
    "Make sure you upload the data to GitHub so it is available for your deployment.\n",
    "\n",
    "Create a custom flow run of your deployment from the UI. Choose Custom\n",
    "Run for the flow and enter the file path as a string on the JSON tab under Parameters.\n",
    "\n",
    "Make sure you have a worker running and polling the correct work pool.\n",
    "\n",
    "View the results in the UI.\n",
    "\n",
    "What’s the final RMSE to five decimal places?\n",
    "\n",
    "- 6.67433\n",
    "- 5.19931\n",
    "- 8.89443\n",
    "- 9.12250"
   ]
  },
  {
   "cell_type": "markdown",
   "id": "61bfeff5",
   "metadata": {},
   "source": [
    "`validation-rmse:5.19931`"
   ]
  },
  {
   "cell_type": "markdown",
   "id": "a1925210",
   "metadata": {},
   "source": [
    "## Q4. RMSE (Markdown Artifact)\n",
    "\n",
    "Download the February 2023 Green Taxi data and use it for your training data.\n",
    "Download the March 2023 Green Taxi data and use it for your validation data. \n",
    "\n",
    "Create a Prefect Markdown artifact that displays the RMSE for the validation data.\n",
    "Create a deployment and run it.\n",
    "\n",
    "What’s the RMSE in the artifact to two decimal places ?\n",
    "\n",
    "- 9.71\n",
    "- 12.02\n",
    "- 15.33\n",
    "- 5.37"
   ]
  },
  {
   "cell_type": "markdown",
   "id": "dead9c3b",
   "metadata": {},
   "source": [
    "`RMSE: 5.374495195206525`"
   ]
  },
  {
   "cell_type": "markdown",
   "id": "5529dfec",
   "metadata": {},
   "source": [
    "## Q5. Emails\n",
    "\n",
    "\n",
    "It’s often helpful to be notified when something with your dataflow doesn’t work\n",
    "as planned. Create an email notification for to use with your own Prefect server instance.\n",
    "In your virtual environment, install the prefect-email integration with \n",
    "\n",
    "```bash\n",
    "pip install prefect-email\n",
    "```\n",
    "\n",
    "Make sure you are connected to a running Prefect server instance through your\n",
    "Prefect profile.\n",
    "See the docs if needed: https://docs.prefect.io/latest/concepts/settings/#configuration-profiles\n",
    "\n",
    "Register the new block with your server with \n",
    "\n",
    "```bash\n",
    "prefect block register -m prefect_email\n",
    "```\n",
    "\n",
    "Remember that a block is a Prefect class with a nice UI form interface.\n",
    "Block objects live on the server and can be created and accessed in your Python code. \n",
    "\n",
    "See the docs for how to authenticate by saving your email credentials to\n",
    "a block and note that you will need an App Password to send emails with\n",
    "Gmail and other services. Follow the instructions in the docs.\n",
    "\n",
    "Create and save an `EmailServerCredentials` notification block.\n",
    "Use the credentials block to send an email.\n",
    "\n",
    "Test the notification functionality by running a deployment.\n",
    "\n",
    "What is the name of the pre-built prefect-email task function?\n",
    "\n",
    "- `send_email_message`\n",
    "- `email_send_message`\n",
    "- `send_email`\n",
    "- `send_message`"
   ]
  },
  {
   "cell_type": "markdown",
   "id": "7dbf8b7d",
   "metadata": {},
   "source": [
    "## Q6. Prefect Cloud\n",
    "\n",
    "The hosted Prefect Cloud lets you avoid running your own Prefect server and\n",
    "has automations that allow you to get notifications when certain events occur\n",
    "or don’t occur. \n",
    "\n",
    "Create a free forever Prefect Cloud account at app.prefect.cloud and connect\n",
    "your workspace to it following the steps in the UI when you sign up. \n",
    "\n",
    "Set up an Automation from the UI that will send yourself an email when\n",
    "a flow run completes. Run one of your existing deployments and check\n",
    "your email to see the notification.\n",
    "\n",
    "Make sure your active profile is pointing toward Prefect Cloud and\n",
    "make sure you have a worker active.\n",
    "\n",
    "What is the name of the second step in the Automation creation process?\n",
    "\n",
    "- Details\n",
    "- Trigger\n",
    "- Actions\n",
    "- The end"
   ]
  },
  {
   "cell_type": "markdown",
   "id": "36ebe24b",
   "metadata": {},
   "source": [
    "## Submit the results\n",
    "\n",
    "* Submit your results here: https://forms.gle/nVSYH5fGGamdY1LaA\n",
    "* You can submit your solution multiple times. In this case, only the last submission will be used\n",
    "* If your answer doesn't match options exactly, select the closest one"
   ]
  },
  {
   "cell_type": "markdown",
   "id": "67528ea3",
   "metadata": {},
   "source": [
    "## Deadline\n",
    "\n",
    "The deadline for submitting is 12 June (Monday), 23:00 CEST (Berlin time). \n",
    "\n",
    "After that, the form will be closed."
   ]
  }
 ],
 "metadata": {
  "kernelspec": {
   "display_name": "Python 3 (ipykernel)",
   "language": "python",
   "name": "python3"
  },
  "language_info": {
   "codemirror_mode": {
    "name": "ipython",
    "version": 3
   },
   "file_extension": ".py",
   "mimetype": "text/x-python",
   "name": "python",
   "nbconvert_exporter": "python",
   "pygments_lexer": "ipython3",
   "version": "3.10.6"
  }
 },
 "nbformat": 4,
 "nbformat_minor": 5
}
